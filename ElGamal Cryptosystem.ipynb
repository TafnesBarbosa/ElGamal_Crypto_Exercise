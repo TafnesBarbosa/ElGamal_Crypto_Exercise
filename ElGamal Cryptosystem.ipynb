{
 "cells": [
  {
   "cell_type": "markdown",
   "id": "ec095ca2",
   "metadata": {},
   "source": [
    "# The ElGamal Cryptosystem"
   ]
  },
  {
   "cell_type": "markdown",
   "id": "c2d7c91a",
   "metadata": {},
   "source": [
    "The ElGamal Cryptosystem may be defined over the group $\\left(\\mathbb{Z}_{p}^{*}, \\cdot\\right)$, where $\\mathbb{Z}_{p}^{*}$ is the set of all integers in the interval $[1,\\cdots,p-1]$ and $p$ is prime. But this cryptosystem may also be defined over the group $\\left(\\mathbb{F}_{p^{n}}^{*}, \\cdot\\right)$, where $\\mathbb{F}_{p^{n}}^{*}=\\mathbb{Z}_{p}^{*}[w]/f(w)$ without the polynomial equal to zero, $p$ is prime, $n$ is an positive integer and $f(w)\\in\\mathbb{Z}_{p}$ is a polynomial of degree $n$. $\\mathbb{Z}_{p}^{*}[w]$ is the set of all polynomials under inderteminate $w$ with coeficients in the set $\\mathbb{Z}_{p}$ without the polynomial equal to zero. The set $\\mathbb{Z}_{p}^{*}[w]/f(w)$ is the set of all polynomial of degree less than $n$ and that are reduced by the polynomial $f(w)$ without the polynomial equal to zero.\n",
    "\n",
    "The ElGamal Cryptosystem is defined over $\\left(\\mathbb{F}_{p^{n}}^{*}, \\cdot\\right)$ as follows:\n",
    "- $\\alpha\\in\\mathbb{F}_{p^{n}}^{*}$ is a primitive element. $\\mathcal{P}=\\mathbb{F}_{p^{n}}^{*}$ is the set of plaintexts. $\\mathcal{C}=\\mathbb{F}_{p^{n}}^{*}\\times\\mathbb{F}_{p^{n}}^{*}$ is the set of ciphertexts.\n",
    "- Define $\\mathcal{K}=\\{(p,n,\\alpha,\\beta,a):\\beta=\\alpha^{a} \\mod f(w)\\}$, where $p$, $n$, $\\alpha$ and $\\beta$ are the public key and $a$ is the private key.\n",
    "- For a random integer $k\\in\\mathbb{Z}_{p^{n}-1}$, define $$e_{K}(x, k)=(y_{1},y_{2})$$where $$y_{1}=\\alpha^{k}\\mod f(w)$$ and $$y_{2}=x\\beta^{k}\\mod f(w)$$\n",
    "- For decryption we have: $$d_{K}(y_{1},y_{2})=y_{2}(y_{1}^{a})^{-1}\\mod f(w)$$"
   ]
  },
  {
   "cell_type": "markdown",
   "id": "06452a5a",
   "metadata": {},
   "source": [
    "Suppose we have the ElGamal Cryptosystem defined over $\\left(\\mathbb{F}_{3^{3}}, \\cdot\\right)$, where $f(w)=w^{3}+2x^{2}+1$ is irreducible over $\\mathbb{Z}_{3}[w]$, in other words, $f(w)$ cannot be factored in other two polynomials over this field. And we have that $\\alpha=w$ a primitive element, $a=11$ and $\\beta=w+2=\\alpha^{a}\\mod f(w)=w^{11}\\mod f(w)$.\n",
    "\n",
    "Suppose we have the following correspondence for every character of the alphabet with the polynomial of $\\mathbb{F}_{3^{3}}^{*}$:\n",
    "\\begin{equation}\n",
    "\\begin{array}{rclrclrcl}\n",
    "A & \\leftrightarrow & 1 & B & \\leftrightarrow & 2 & C & \\leftrightarrow & w\\\\\n",
    "D & \\leftrightarrow & w+1 & E & \\leftrightarrow & w+2 & F & \\leftrightarrow & 2w\\\\\n",
    "G & \\leftrightarrow & 2w+1 & H & \\leftrightarrow & 2w+2 & I & \\leftrightarrow & w^{2}\\\\\n",
    "J & \\leftrightarrow & w^{2}+1 & K & \\leftrightarrow & w^{2}+2 & L & \\leftrightarrow & w^{2}+w\\\\\n",
    "M & \\leftrightarrow & w^{2}+w+1 & N & \\leftrightarrow & w^{2}+w+2 & O & \\leftrightarrow & w^{2}+2w\\\\\n",
    "P & \\leftrightarrow & w^{2}+2w+1 & Q & \\leftrightarrow & w^{2}+2w+2 & R & \\leftrightarrow & 2w^{2}\\\\\n",
    "S & \\leftrightarrow & 2w^{2}+1 & T & \\leftrightarrow & 2w^{2}+2 & U & \\leftrightarrow & 2w^{2}+w\\\\\n",
    "V & \\leftrightarrow & 2w^{2}+w+1 & X & \\leftrightarrow & 2w^{2}+w+2 & W & \\leftrightarrow & 2w^{2}+2w\\\\\n",
    "Y & \\leftrightarrow & 2w^{2}+2w+1 & Z & \\leftrightarrow & 2w^{2}+2w+2 &  &  & \\\\\n",
    "\\end{array}\n",
    "\\end{equation}\n",
    "\n",
    "And we want to decrypt the following ciphertexts:\n",
    "$$(K, H)\\ (P, X)\\ (N, K)\\ (H, R)\\ (T, F)\\ (V, Y)\\ (E, H)\\ (F, A)\\ (T, W)\\ (J, D)\\ (U, J)$$\n",
    "So let's do a code for solve this for us."
   ]
  },
  {
   "cell_type": "markdown",
   "id": "a86fd862",
   "metadata": {},
   "source": [
    "First we import some libraries that will help us with data treatment."
   ]
  },
  {
   "cell_type": "code",
   "execution_count": 1,
   "id": "72df7908",
   "metadata": {},
   "outputs": [],
   "source": [
    "import numpy as np"
   ]
  },
  {
   "cell_type": "markdown",
   "id": "a3415e7c",
   "metadata": {},
   "source": [
    "## Arithmetics with polynomials and fields\n",
    "Now we write some functions for arithmetics with polynomials and other helper functions"
   ]
  },
  {
   "cell_type": "code",
   "execution_count": 2,
   "id": "e3b1dc0d",
   "metadata": {},
   "outputs": [],
   "source": [
    "'''\n",
    "This function makes the product of two polynomials reduced modulo f(w)=w^3+2*w^2+1\n",
    "'''\n",
    "def mult_Fq(poly1, poly2):\n",
    "    # Multiplis the two polynomials\n",
    "    poly = list(np.polymul(poly1, poly2))\n",
    "    \n",
    "    # Make sure that there is 5 entries in the array\n",
    "    while len(poly) < 5:\n",
    "        poly.insert(0, 0)\n",
    "        \n",
    "    # Reduce the polynomial by the polynomial f(w) using division of polynomials\n",
    "    poly = [\n",
    "        poly[0] + poly[1] + poly[2],\n",
    "        poly[3] + 2 * poly[0], \n",
    "        poly[4] + 2 * poly[0] + 2 * poly[1]\n",
    "    ]\n",
    "    \n",
    "    # Make sure all the coeficients are reduced modulo 3\n",
    "    poly = [*map(lambda t: t % 3, poly)]\n",
    "    return poly\n",
    "\n",
    "'''\n",
    "This function makes the exponetiation of a polynomial reduced modulo f(w)=w^3+2*w^2+1\n",
    "'''\n",
    "def exp_Fq(poly1, a):\n",
    "    # Returns the polynomial f(w)=1 if the exponent is zero\n",
    "    if a == 0:\n",
    "        return [0, 0, 1]\n",
    "    \n",
    "    # Uses the multiplication algorithm for the exponetiation. \n",
    "    # This could be enhanced using a form the square and multiply algorithm\n",
    "    poly = poly1.copy()\n",
    "    for i in range(a - 1):\n",
    "        poly = mult_Fq(poly, poly1)\n",
    "    return poly\n",
    "\n",
    "'''\n",
    "This function converts some integer to base 3 with the output digits in a array\n",
    "'''\n",
    "def int2base3(n):\n",
    "    poly = []\n",
    "    while n != 0:\n",
    "        poly.insert(0, n % 3)\n",
    "        n = n // 3\n",
    "        \n",
    "    # Make sure that the array has length 3\n",
    "    while len(poly) != 3:\n",
    "        poly.insert(0, 0)\n",
    "    return poly\n",
    "\n",
    "\n",
    "'''\n",
    "This function converts an input array on base 3 to integer.\n",
    "Is an invert of the previous function.\n",
    "'''\n",
    "def base32int(poly):\n",
    "    n = poly[0]\n",
    "    for i in range(1,len(poly)):\n",
    "        n *= 3\n",
    "        n += poly[i]\n",
    "    return n"
   ]
  },
  {
   "cell_type": "markdown",
   "id": "3ccd8258",
   "metadata": {},
   "source": [
    "## Decryption code\n",
    "We write the code that makes the decryption of a ciphertext in this specified problem of the ElGamal Cryptosystem"
   ]
  },
  {
   "cell_type": "code",
   "execution_count": 3,
   "id": "11215a52",
   "metadata": {},
   "outputs": [],
   "source": [
    "'''\n",
    "Decrypts the ciphertext y1 and y2 using information about the ElGamal cryptosystem.\n",
    "'''\n",
    "def decrypt(y1, y2, a, alpha, alphabet):\n",
    "    # Find the value of y1^a reduced f(w)\n",
    "    y1_a = exp_Fq(y1, a)\n",
    "    \n",
    "    # Find the invert polynomial g(w) such that g(w) * y1^a mod f(w) = 1.\n",
    "    # This is made by the dictionary of the alphabet using the primitive element \n",
    "    # to generate all the polynomials of the field.\n",
    "    character = chr(base32int(y1_a) + ord('A') - 1) # Gets which character y1^a corresponds to.\n",
    "    i = alphabet[character] # Gets what exponent i such that alpha^i = y1^a\n",
    "    log_alpha_y1_a_inv = 26 - i # So, the exponent of g(w) will be 26 - i\n",
    "    if log_alpha_y1_a_inv == 0: # The invert of 1 is 1\n",
    "        log_alpha_y1_a_inv = 1\n",
    "    gw = exp_Fq(alpha, log_alpha_y1_a_inv) # Gets g(w)\n",
    "    \n",
    "    # Return the decryption multiplying g(w) by the y2\n",
    "    return chr(base32int(mult_Fq(y2, gw)) + ord('A') - 1)"
   ]
  },
  {
   "cell_type": "markdown",
   "id": "2418bf97",
   "metadata": {},
   "source": [
    "## Some visualization before solving it\n",
    "The code below shows the correspondences of the characters to the polynomials."
   ]
  },
  {
   "cell_type": "code",
   "execution_count": 4,
   "id": "fac712b8",
   "metadata": {},
   "outputs": [
    {
     "data": {
      "text/plain": [
       "{'A': [0, 0, 1],\n",
       " 'B': [0, 0, 2],\n",
       " 'C': [0, 1, 0],\n",
       " 'D': [0, 1, 1],\n",
       " 'E': [0, 1, 2],\n",
       " 'F': [0, 2, 0],\n",
       " 'G': [0, 2, 1],\n",
       " 'H': [0, 2, 2],\n",
       " 'I': [1, 0, 0],\n",
       " 'J': [1, 0, 1],\n",
       " 'K': [1, 0, 2],\n",
       " 'L': [1, 1, 0],\n",
       " 'M': [1, 1, 1],\n",
       " 'N': [1, 1, 2],\n",
       " 'O': [1, 2, 0],\n",
       " 'P': [1, 2, 1],\n",
       " 'Q': [1, 2, 2],\n",
       " 'R': [2, 0, 0],\n",
       " 'S': [2, 0, 1],\n",
       " 'T': [2, 0, 2],\n",
       " 'U': [2, 1, 0],\n",
       " 'V': [2, 1, 1],\n",
       " 'W': [2, 1, 2],\n",
       " 'X': [2, 2, 0],\n",
       " 'Y': [2, 2, 1],\n",
       " 'Z': [2, 2, 2]}"
      ]
     },
     "execution_count": 4,
     "metadata": {},
     "output_type": "execute_result"
    }
   ],
   "source": [
    "alphabet = {}\n",
    "for i in range(1,27):\n",
    "    alphabet[chr(i + ord('A') - 1)] = int2base3(i)\n",
    "    \n",
    "alphabet"
   ]
  },
  {
   "cell_type": "markdown",
   "id": "2adf285a",
   "metadata": {},
   "source": [
    "We know that $$\\alpha=w,$$ $$\\beta=w+2$$ and $$a=11$$"
   ]
  },
  {
   "cell_type": "code",
   "execution_count": 5,
   "id": "c4944079",
   "metadata": {},
   "outputs": [],
   "source": [
    "alpha = [0, 1, 0]\n",
    "beta = [0, 1, 2]\n",
    "a = 11"
   ]
  },
  {
   "cell_type": "markdown",
   "id": "c54c9c6a",
   "metadata": {},
   "source": [
    "In the code below, we make an alphabet dictionary using that $\\alpha$ is a primitive element, in other words, it is a generator of the field. That is $$p(w)=\\alpha^{i}\\mod f(w), \\text{ for some } i\\geq 0$$ for all $p(w)\\in\\mathbb{F}_{p^{n}}^{*}$.\n",
    "\n",
    "The alphabet contains the exponents $i$ such that each polynomial (character) can be generated. For example, you see that 'X' = 6. So we know that $$\\text{'X'}=[2, 2, 0] = 2w^{2}+2w = w^{6}\\mod f(w)$$ where $f(w)=w^{3}+2w^{2}+1$."
   ]
  },
  {
   "cell_type": "code",
   "execution_count": 6,
   "id": "03fd4b3e",
   "metadata": {},
   "outputs": [
    {
     "data": {
      "text/plain": [
       "{'A': 0,\n",
       " 'C': 1,\n",
       " 'I': 2,\n",
       " 'K': 3,\n",
       " 'Q': 4,\n",
       " 'H': 5,\n",
       " 'X': 6,\n",
       " 'J': 7,\n",
       " 'N': 8,\n",
       " 'Z': 9,\n",
       " 'P': 10,\n",
       " 'E': 11,\n",
       " 'O': 12,\n",
       " 'B': 13,\n",
       " 'F': 14,\n",
       " 'R': 15,\n",
       " 'S': 16,\n",
       " 'V': 17,\n",
       " 'D': 18,\n",
       " 'L': 19,\n",
       " 'T': 20,\n",
       " 'Y': 21,\n",
       " 'M': 22,\n",
       " 'W': 23,\n",
       " 'G': 24,\n",
       " 'U': 25}"
      ]
     },
     "execution_count": 6,
     "metadata": {},
     "output_type": "execute_result"
    }
   ],
   "source": [
    "alphabet_exponents = {}\n",
    "for i in range(26):\n",
    "    poly = exp_Fq(alpha, i)\n",
    "    character = chr(base32int(poly) + ord('A') - 1)\n",
    "    alphabet_exponents[character] = i\n",
    "    \n",
    "alphabet_exponents"
   ]
  },
  {
   "cell_type": "markdown",
   "id": "6a16045f",
   "metadata": {},
   "source": [
    "## Decryption of the ciphertexts\n",
    "Now, we decrypt the cipehrtexts"
   ]
  },
  {
   "cell_type": "code",
   "execution_count": 7,
   "id": "6053728b",
   "metadata": {},
   "outputs": [],
   "source": [
    "ciphertext = [\n",
    "    ('K', 'H'),\n",
    "    ('P', 'X'),\n",
    "    ('N', 'K'),\n",
    "    ('H', 'R'),\n",
    "    ('T', 'F'),\n",
    "    ('V', 'Y'),\n",
    "    ('E', 'H'),\n",
    "    ('F', 'A'),\n",
    "    ('T', 'W'),\n",
    "    ('J', 'D'),\n",
    "    ('U', 'J')\n",
    "]\n",
    "\n",
    "# Each ciphertext is dercypted separately\n",
    "plaintext = ''\n",
    "for y1, y2 in ciphertext:\n",
    "    plaintext += decrypt(\n",
    "        int2base3(ord(y1) - ord('A') + 1),\n",
    "        int2base3(ord(y2) - ord('A') + 1),\n",
    "        a,\n",
    "        alpha,\n",
    "        alphabet_exponents\n",
    "    )"
   ]
  },
  {
   "cell_type": "markdown",
   "id": "f5efedc6",
   "metadata": {},
   "source": [
    "And we get that the plaintext is:"
   ]
  },
  {
   "cell_type": "code",
   "execution_count": 8,
   "id": "b30778e3",
   "metadata": {
    "scrolled": true
   },
   "outputs": [
    {
     "name": "stdout",
     "output_type": "stream",
     "text": [
      "The plaintext is: GALOISFIELD\n"
     ]
    }
   ],
   "source": [
    "print('The plaintext is:', plaintext)"
   ]
  },
  {
   "cell_type": "markdown",
   "id": "4da9aa93",
   "metadata": {},
   "source": [
    "## Reference\n",
    "I took this example from the book *Criptography: Theory and Practice* from Stinson and Paterson, fourth edition, chapter 7: *Public-key Cryptography and Discrete Logarithms*."
   ]
  }
 ],
 "metadata": {
  "kernelspec": {
   "display_name": "Python 3 (ipykernel)",
   "language": "python",
   "name": "python3"
  },
  "language_info": {
   "codemirror_mode": {
    "name": "ipython",
    "version": 3
   },
   "file_extension": ".py",
   "mimetype": "text/x-python",
   "name": "python",
   "nbconvert_exporter": "python",
   "pygments_lexer": "ipython3",
   "version": "3.9.5"
  }
 },
 "nbformat": 4,
 "nbformat_minor": 5
}
